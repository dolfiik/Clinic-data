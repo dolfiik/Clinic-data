{
 "cells": [
  {
   "cell_type": "markdown",
   "metadata": {},
   "source": [
    "# Analiza Eksploracyjna Danych (EDA) i Przygotowanie Danych\n",
    "## System Wspomagania Decyzji w Triaży Medycznym\n",
    "\n",
    "**Data:** 2025-10-15  \n",
    "**Cel:** Analiza danych syntetycznych, identyfikacja wzorców i przygotowanie danych do modelowania ML"
   ]
  },
  {
   "cell_type": "markdown",
   "metadata": {},
   "source": [
    "## 1. Import bibliotek i konfiguracja"
   ]
  },
  {
   "cell_type": "code",
   "execution_count": null,
   "metadata": {},
   "outputs": [],
   "source": [
    "import pandas as pd\n",
    "import numpy as np\n",
    "import matplotlib.pyplot as plt\n",
    "import seaborn as sns\n",
    "from datetime import datetime\n",
    "import warnings\n",
    "\n",
    "# Konfiguracja\n",
    "warnings.filterwarnings('ignore')\n",
    "plt.style.use('seaborn-v0_8-darkgrid')\n",
    "sns.set_palette(\"husl\")\n",
    "\n",
    "# Ustawienia wyświetlania\n",
    "pd.set_option('display.max_columns', None)\n",
    "pd.set_option('display.max_rows', 100)\n",
    "pd.set_option('display.float_format', lambda x: '%.2f' % x)\n",
    "\n",
    "print(\"✓ Biblioteki zaimportowane pomyślnie\")"
   ]
  },
  {
   "cell_type": "markdown",
   "metadata": {},
   "source": [
    "## 2. Załadowanie danych"
   ]
  },
  {
   "cell_type": "code",
   "execution_count": null,
   "metadata": {},
   "outputs": [],
   "source": [
    "# Ścieżki do plików\n",
    "TRIAGE_DATA_PATH = '../data/raw/triage_data.csv'\n",
    "ARRANGEMENT_DATA_PATH = '../data/raw/department_arrangement_data.csv'\n",
    "\n",
    "# Wczytanie danych\n",
    "print(\"=\"*70)\n",
    "print(\"WCZYTYWANIE DANYCH\")\n",
    "print(\"=\"*70)\n",
    "\n",
    "df_triage = pd.read_csv(TRIAGE_DATA_PATH)\n",
    "df_arrangement = pd.read_csv(ARRANGEMENT_DATA_PATH)\n",
    "\n",
    "print(f\"\\n✓ Dane triaży: {df_triage.shape[0]} wierszy × {df_triage.shape[1]} kolumn\")\n",
    "print(f\"✓ Dane alokacji: {df_arrangement.shape[0]} wierszy × {df_arrangement.shape[1]} kolumn\")"
   ]
  },
  {
   "cell_type": "markdown",
   "metadata": {},
   "source": [
    "## 3. Wstępna inspekcja danych"
   ]
  },
  {
   "cell_type": "code",
   "execution_count": null,
   "metadata": {},
   "outputs": [],
   "source": [
    "print(\"=\"*70)\n",
    "print(\"INSPEKCJA DANYCH TRIAŻY\")\n",
    "print(\"=\"*70)\n",
    "\n",
    "# Wyświetlenie pierwszych wierszy\n",
    "print(\"\\n--- Pierwsze 5 wierszy ---\")\n",
    "display(df_triage.head())"
   ]
  },
  {
   "cell_type": "code",
   "execution_count": null,
   "metadata": {},
   "outputs": [],
   "source": [
    "# Informacje o typach danych\n",
    "print(\"\\n--- Informacje o kolumnach ---\")\n",
    "df_triage.info()"
   ]
  },
  {
   "cell_type": "code",
   "execution_count": null,
   "metadata": {},
   "outputs": [],
   "source": [
    "# Statystyki opisowe dla zmiennych numerycznych\n",
    "print(\"\\n--- Statystyki opisowe (zmienne numeryczne) ---\")\n",
    "display(df_triage.describe())"
   ]
  },
  {
   "cell_type": "code",
   "execution_count": null,
   "metadata": {},
   "outputs": [],
   "source": [
    "# Analiza brakujących wartości\n",
    "print(\"\\n--- Brakujące wartości ---\")\n",
    "missing = df_triage.isnull().sum()\n",
    "missing_pct = (missing / len(df_triage)) * 100\n",
    "missing_df = pd.DataFrame({\n",
    "    'Liczba': missing,\n",
    "    'Procent': missing_pct\n",
    "}).sort_values('Liczba', ascending=False)\n",
    "display(missing_df[missing_df['Liczba'] > 0])"
   ]
  },
  {
   "cell_type": "markdown",
   "metadata": {},
   "source": [
    "## 4. Feature Engineering - Cechy czasowe"
   ]
  },
  {
   "cell_type": "code",
   "execution_count": null,
   "metadata": {},
   "outputs": [],
   "source": [
    "print(\"=\"*70)\n",
    "print(\"PRZYGOTOWANIE DANYCH\")\n",
    "print(\"=\"*70)\n",
    "\n",
    "# Konwersja daty\n",
    "df_triage['data_przyjęcia'] = pd.to_datetime(df_triage['data_przyjęcia'])\n",
    "df_arrangement['timestamp'] = pd.to_datetime(df_arrangement['timestamp'])\n",
    "\n",
    "# Ekstrakcja cech czasowych\n",
    "df_triage['godzina'] = df_triage['data_przyjęcia'].dt.hour\n",
    "df_triage['dzien_tygodnia'] = df_triage['data_przyjęcia'].dt.dayofweek\n",
    "df_triage['miesiac'] = df_triage['data_przyjęcia'].dt.month\n",
    "df_triage['czy_weekend'] = df_triage['dzien_tygodnia'].isin([5, 6]).astype(int)\n",
    "\n",
    "# Nazwy dni tygodnia\n",
    "dni_tygodnia_map = {0: 'Pn', 1: 'Wt', 2: 'Śr', 3: 'Cz', 4: 'Pt', 5: 'Sb', 6: 'Nd'}\n",
    "df_triage['dzien_nazwa'] = df_triage['dzien_tygodnia'].map(dni_tygodnia_map)\n",
    "\n",
    "# Pora dnia\n",
    "def okresl_pore_dnia(godzina):\n",
    "    if 6 <= godzina < 12:\n",
    "        return 'Rano'\n",
    "    elif 12 <= godzina < 18:\n",
    "        return 'Popołudnie'\n",
    "    elif 18 <= godzina < 24:\n",
    "        return 'Wieczór'\n",
    "    else:\n",
    "        return 'Noc'\n",
    "\n",
    "df_triage['pora_dnia'] = df_triage['godzina'].apply(okresl_pore_dnia)\n",
    "\n",
    "print(\"✓ Cechy czasowe utworzone\")\n",
    "print(f\"\\nNowe kolumny: {list(df_triage.columns[-6:])}\")"
   ]
  },
  {
   "cell_type": "markdown",
   "metadata": {},
   "source": [
    "## 5. Analiza rozkładów - Zmienne kategoryczne"
   ]
  },
  {
   "cell_type": "code",
   "execution_count": null,
   "metadata": {},
   "outputs": [],
   "source": [
    "# Funkcja do tworzenia wykresów rozkładów\n",
    "def plot_categorical_distribution(df, column, title, figsize=(10, 6)):\n",
    "    fig, ax = plt.subplots(figsize=figsize)\n",
    "    counts = df[column].value_counts()\n",
    "    counts.plot(kind='bar', ax=ax, color='skyblue', edgecolor='black')\n",
    "    ax.set_title(title, fontsize=14, fontweight='bold')\n",
    "    ax.set_xlabel(column, fontsize=12)\n",
    "    ax.set_ylabel('Liczba przypadków', fontsize=12)\n",
    "    ax.grid(axis='y', alpha=0.3)\n",
    "    \n",
    "    # Dodanie wartości na słupkach\n",
    "    for i, v in enumerate(counts.values):\n",
    "        ax.text(i, v + max(counts)*0.01, str(v), ha='center', va='bottom')\n",
    "    \n",
    "    plt.xticks(rotation=45, ha='right')\n",
    "    plt.tight_layout()\n",
    "    plt.show()\n",
    "    \n",
    "    # Statystyki\n",
    "    print(f\"\\nRozkład: {column}\")\n",
    "    print(counts)\n",
    "    print(f\"Procent:\\n{(counts/len(df)*100).round(2)}\")"
   ]
  },
  {
   "cell_type": "code",
   "execution_count": null,
   "metadata": {},
   "outputs": [],
   "source": [
    "# Kategorie triaży\n",
    "print(\"\\n--- Kategorie Triaży ---\")\n",
    "plot_categorical_distribution(df_triage, 'kategoria_triażu', \n",
    "                              'Rozkład Kategorii Triaży', (10, 6))"
   ]
  },
  {
   "cell_type": "code",
   "execution_count": null,
   "metadata": {},
   "outputs": [],
   "source": [
    "# Oddziały docelowe\n",
    "print(\"\\n--- Oddziały Docelowe ---\")\n",
    "plot_categorical_distribution(df_triage, 'oddział_docelowy', \n",
    "                              'Rozkład Oddziałów Docelowych', (12, 6))"
   ]
  },
  {
   "cell_type": "code",
   "execution_count": null,
   "metadata": {},
   "outputs": [],
   "source": [
    "# Płeć\n",
    "print(\"\\n--- Płeć ---\")\n",
    "plot_categorical_distribution(df_triage, 'płeć', \n",
    "                              'Rozkład Płci', (8, 6))"
   ]
  },
  {
   "cell_type": "code",
   "execution_count": null,
   "metadata": {},
   "outputs": [],
   "source": [
    "# Szablony przypadków\n",
    "print(\"\\n--- Top 10 Szablonów Przypadków ---\")\n",
    "top_templates = df_triage['szablon_przypadku'].value_counts().head(10)\n",
    "fig, ax = plt.subplots(figsize=(12, 6))\n",
    "top_templates.plot(kind='barh', ax=ax, color='coral', edgecolor='black')\n",
    "ax.set_title('Top 10 Najczęstszych Szablonów Przypadków', fontsize=14, fontweight='bold')\n",
    "ax.set_xlabel('Liczba przypadków', fontsize=12)\n",
    "plt.tight_layout()\n",
    "plt.show()"
   ]
  },
  {
   "cell_type": "markdown",
   "metadata": {},
   "source": [
    "## 6. Analiza rozkładów - Zmienne numeryczne"
   ]
  },
  {
   "cell_type": "code",
   "execution_count": null,
   "metadata": {},
   "outputs": [],
   "source": [
    "# Lista parametrów życiowych\n",
    "vital_params = ['wiek', 'tętno', 'ciśnienie_skurczowe', 'ciśnienie_rozkurczowe', \n",
    "                'temperatura', 'saturacja']\n",
    "\n",
    "# Funkcja do analizy zmiennej numerycznej\n",
    "def analyze_numeric_variable(df, column):\n",
    "    print(f\"\\n{'='*50}\")\n",
    "    print(f\"Analiza: {column}\")\n",
    "    print('='*50)\n",
    "    \n",
    "    # Usunięcie NaN\n",
    "    data = df[column].dropna()\n",
    "    \n",
    "    if len(data) == 0:\n",
    "        print(\"Brak danych!\")\n",
    "        return\n",
    "    \n",
    "    # Statystyki\n",
    "    print(f\"\\nŚrednia: {data.mean():.2f}\")\n",
    "    print(f\"Mediana: {data.median():.2f}\")\n",
    "    print(f\"Odch. std.: {data.std():.2f}\")\n",
    "    print(f\"Min: {data.min():.2f}\")\n",
    "    print(f\"Max: {data.max():.2f}\")\n",
    "    print(f\"Q1: {data.quantile(0.25):.2f}\")\n",
    "    print(f\"Q3: {data.quantile(0.75):.2f}\")\n",
    "    \n",
    "    # Wykres\n",
    "    fig, axes = plt.subplots(1, 2, figsize=(14, 5))\n",
    "    \n",
    "    # Histogram\n",
    "    axes[0].hist(data, bins=30, color='steelblue', edgecolor='black', alpha=0.7)\n",
    "    axes[0].axvline(data.mean(), color='red', linestyle='--', linewidth=2, label=f'Średnia: {data.mean():.2f}')\n",
    "    axes[0].axvline(data.median(), color='green', linestyle='--', linewidth=2, label=f'Mediana: {data.median():.2f}')\n",
    "    axes[0].set_title(f'Histogram: {column}', fontsize=12, fontweight='bold')\n",
    "    axes[0].set_xlabel(column, fontsize=10)\n",
    "    axes[0].set_ylabel('Częstość', fontsize=10)\n",
    "    axes[0].legend()\n",
    "    axes[0].grid(alpha=0.3)\n",
    "    \n",
    "    # Boxplot\n",
    "    axes[1].boxplot(data, vert=True, patch_artist=True,\n",
    "                    boxprops=dict(facecolor='lightblue', color='black'),\n",
    "                    whiskerprops=dict(color='black'),\n",
    "                    capprops=dict(color='black'),\n",
    "                    medianprops=dict(color='red', linewidth=2))\n",
    "    axes[1].set_title(f'Boxplot: {column}', fontsize=12, fontweight='bold')\n",
    "    axes[1].set_ylabel(column, fontsize=10)\n",
    "    axes[1].grid(alpha=0.3)\n",
    "    \n",
    "    plt.tight_layout()\n",
    "    plt.show()"
   ]
  },
  {
   "cell_type": "code",
   "execution_count": null,
   "metadata": {},
   "outputs": [],
   "source": [
    "# Analiza każdego parametru\n",
    "for param in vital_params:\n",
    "    if param in df_triage.columns:\n",
    "        analyze_numeric_variable(df_triage, param)"
   ]
  },
  {
   "cell_type": "markdown",
   "metadata": {},
   "source": [
    "## 7. Analiza wzorców czasowych"
   ]
  },
  {
   "cell_type": "code",
   "execution_count": null,
   "metadata": {},
   "outputs": [],
   "source": [
    "# Przyjęcia według godziny\n",
    "print(\"\\n--- Rozkład przyjęć według godziny ---\")\n",
    "fig, ax = plt.subplots(figsize=(14, 6))\n",
    "hourly_admits = df_triage.groupby('godzina').size()\n",
    "hourly_admits.plot(kind='bar', ax=ax, color='teal', edgecolor='black')\n",
    "ax.set_title('Rozkład przyjęć według godziny dnia', fontsize=14, fontweight='bold')\n",
    "ax.set_xlabel('Godzina', fontsize=12)\n",
    "ax.set_ylabel('Liczba przyjęć', fontsize=12)\n",
    "ax.grid(axis='y', alpha=0.3)\n",
    "plt.tight_layout()\n",
    "plt.show()"
   ]
  },
  {
   "cell_type": "code",
   "execution_count": null,
   "metadata": {},
   "outputs": [],
   "source": [
    "# Przyjęcia według dnia tygodnia\n",
    "print(\"\\n--- Rozkład przyjęć według dnia tygodnia ---\")\n",
    "fig, ax = plt.subplots(figsize=(10, 6))\n",
    "daily_admits = df_triage.groupby('dzien_nazwa').size().reindex(['Pn', 'Wt', 'Śr', 'Cz', 'Pt', 'Sb', 'Nd'])\n",
    "daily_admits.plot(kind='bar', ax=ax, color='salmon', edgecolor='black')\n",
    "ax.set_title('Rozkład przyjęć według dnia tygodnia', fontsize=14, fontweight='bold')\n",
    "ax.set_xlabel('Dzień tygodnia', fontsize=12)\n",
    "ax.set_ylabel('Liczba przyjęć', fontsize=12)\n",
    "ax.grid(axis='y', alpha=0.3)\n",
    "plt.xticks(rotation=0)\n",
    "plt.tight_layout()\n",
    "plt.show()"
   ]
  },
  {
   "cell_type": "code",
   "execution_count": null,
   "metadata": {},
   "outputs": [],
   "source": [
    "# Przyjęcia według miesiąca\n",
    "print(\"\\n--- Rozkład przyjęć według miesiąca ---\")\n",
    "fig, ax = plt.subplots(figsize=(12, 6))\n",
    "monthly_admits = df_triage.groupby('miesiac').size()\n",
    "monthly_admits.plot(kind='bar', ax=ax, color='gold', edgecolor='black')\n",
    "ax.set_title('Rozkład przyjęć według miesiąca (Sezonowość)', fontsize=14, fontweight='bold')\n",
    "ax.set_xlabel('Miesiąc', fontsize=12)\n",
    "ax.set_ylabel('Liczba przyjęć', fontsize=12)\n",
    "ax.grid(axis='y', alpha=0.3)\n",
    "plt.tight_layout()\n",
    "plt.show()"
   ]
  },
  {
   "cell_type": "code",
   "execution_count": null,
   "metadata": {},
   "outputs": [],
   "source": [
    "# Przyjęcia według pory dnia\n",
    "print(\"\\n--- Rozkład przyjęć według pory dnia ---\")\n",
    "fig, ax = plt.subplots(figsize=(10, 6))\n",
    "pora_admits = df_triage.groupby('pora_dnia').size().reindex(['Rano', 'Popołudnie', 'Wieczór', 'Noc'])\n",
    "pora_admits.plot(kind='bar', ax=ax, color='mediumseagreen', edgecolor='black')\n",
    "ax.set_title('Rozkład przyjęć według pory dnia', fontsize=14, fontweight='bold')\n",
    "ax.set_xlabel('Pora dnia', fontsize=12)\n",
    "ax.set_ylabel('Liczba przyjęć', fontsize=12)\n",
    "ax.grid(axis='y', alpha=0.3)\n",
    "plt.xticks(rotation=45)\n",
    "plt.tight_layout()\n",
    "plt.show()"
   ]
  },
  {
   "cell_type": "markdown",
   "metadata": {},
   "source": [
    "## 8. Analiza korelacji"
   ]
  },
  {
   "cell_type": "code",
   "execution_count": null,
   "metadata": {},
   "outputs": [],
   "source": [
    "# Wybór zmiennych numerycznych do korelacji\n",
    "numeric_cols = ['wiek', 'tętno', 'ciśnienie_skurczowe', 'ciśnienie_rozkurczowe',\n",
    "                'temperatura', 'saturacja', 'kategoria_triażu']\n",
    "\n",
    "# Filtracja istniejących kolumn\n",
    "available_cols = [col for col in numeric_cols if col in df_triage.columns]\n",
    "\n",
    "# Macierz korelacji\n",
    "corr_matrix = df_triage[available_cols].corr()\n",
    "\n",
    "print(\"\\n--- Macierz korelacji ---\")\n",
    "display(corr_matrix)\n",
    "\n",
    "# Wizualizacja\n",
    "fig, ax = plt.subplots(figsize=(12, 10))\n",
    "sns.heatmap(corr_matrix, annot=True, fmt='.2f', cmap='coolwarm', \n",
    "            center=0, square=True, linewidths=1, cbar_kws={\"shrink\": 0.8},\n",
    "            ax=ax)\n",
    "ax.set_title('Macierz Korelacji Parametrów Życiowych', fontsize=14, fontweight='bold')\n",
    "plt.tight_layout()\n",
    "plt.show()"
   ]
  },
  {
   "cell_type": "markdown",
   "metadata": {},
   "source": [
    "## 9. Analiza według kategorii triaży"
   ]
  },
  {
   "cell_type": "code",
   "execution_count": null,
   "metadata": {},
   "outputs": [],
   "source": [
    "# Parametry życiowe według kategorii triaży\n",
    "print(\"\\n--- Średnie parametry według kategorii triaży ---\")\n",
    "triage_stats = df_triage.groupby('kategoria_triażu')[available_cols[:-1]].mean()\n",
    "display(triage_stats)"
   ]
  },
  {
   "cell_type": "code",
   "execution_count": null,
   "metadata": {},
   "outputs": [],
   "source": [
    "# Wizualizacja\n",
    "fig, axes = plt.subplots(2, 3, figsize=(16, 10))\n",
    "axes = axes.flatten()\n",
    "\n",
    "params_to_plot = ['wiek', 'tętno', 'ciśnienie_skurczowe', 'temperatura', 'saturacja']\n",
    "\n",
    "for idx, param in enumerate(params_to_plot):\n",
    "    if param in df_triage.columns:\n",
    "        df_triage.boxplot(column=param, by='kategoria_triażu', ax=axes[idx])\n",
    "        axes[idx].set_title(f'{param} według kategorii triaży')\n",
    "        axes[idx].set_xlabel('Kategoria triaży')\n",
    "        axes[idx].set_ylabel(param)\n",
    "        plt.sca(axes[idx])\n",
    "        plt.xticks(rotation=0)\n",
    "\n",
    "# Ukrycie pustego subplotu\n",
    "if len(params_to_plot) < 6:\n",
    "    axes[-1].axis('off')\n",
    "\n",
    "plt.suptitle('')\n",
    "fig.suptitle('Parametry życiowe według kategorii triaży', fontsize=14, fontweight='bold', y=1.00)\n",
    "plt.tight_layout()\n",
    "plt.show()"
   ]
  },
  {
   "cell_type": "markdown",
   "metadata": {},
   "source": [
    "## 10. Analiza oddziałów"
   ]
  },
  {
   "cell_type": "code",
   "execution_count": null,
   "metadata": {},
   "outputs": [],
   "source": [
    "# Rozkład kategorii triaży według oddziałów\n",
    "print(\"\\n--- Kategorie triaży według oddziałów ---\")\n",
    "dept_triage = pd.crosstab(df_triage['oddział_docelowy'], \n",
    "                          df_triage['kategoria_triażu'], \n",
    "                          normalize='index') * 100\n",
    "\n",
    "display(dept_triage.round(2))\n",
    "\n",
    "# Wizualizacja\n",
    "fig, ax = plt.subplots(figsize=(14, 8))\n",
    "dept_triage.plot(kind='bar', stacked=True, ax=ax, colormap='viridis')\n",
    "ax.set_title('Rozkład kategorii triaży według oddziałów (%)', fontsize=14, fontweight='bold')\n",
    "ax.set_xlabel('Oddział', fontsize=12)\n",
    "ax.set_ylabel('Procent', fontsize=12)\n",
    "ax.legend(title='Kategoria triaży', bbox_to_anchor=(1.05, 1), loc='upper left')\n",
    "ax.grid(axis='y', alpha=0.3)\n",
    "plt.xticks(rotation=45, ha='right')\n",
    "plt.tight_layout()\n",
    "plt.show()"
   ]
  },
  {
   "cell_type": "markdown",
   "metadata": {},
   "source": [
    "## 11. Przygotowanie danych do modelowania"
   ]
  },
  {
   "cell_type": "code",
   "execution_count": null,
   "metadata": {},
   "outputs": [],
   "source": [
    "print(\"=\"*70)\n",
    "print(\"PRZYGOTOWANIE DANYCH DO MODELOWANIA\")\n",
    "print(\"=\"*70)\n",
    "\n",
    "# Stworzenie kopii dataframe\n",
    "df_model = df_triage.copy()\n",
    "\n",
    "# 1. Kodowanie zmiennych kategorycznych\n",
    "print(\"\\n--- Kodowanie zmiennych kategorycznych ---\")\n",
    "\n",
    "# Label encoding dla płci\n",
    "df_model['płeć_encoded'] = df_model['płeć'].map({'M': 1, 'K': 0})\n",
    "\n",
    "# One-hot encoding dla oddziałów\n",
    "dept_dummies = pd.get_dummies(df_model['oddział_docelowy'], prefix='oddział')\n",
    "df_model = pd.concat([df_model, dept_dummies], axis=1)\n",
    "\n",
    "# One-hot encoding dla szablonów przypadków\n",
    "template_dummies = pd.get_dummies(df_model['szablon_przypadku'], prefix='szablon')\n",
    "df_model = pd.concat([df_model, template_dummies], axis=1)\n",
    "\n",
    "print(f\"✓ Zmienne zakodowane\")\n",
    "print(f\"Nowa liczba kolumn: {df_model.shape[1]}\")"
   ]
  },
  {
   "cell_type": "code",
   "execution_count": null,
   "metadata": {},
   "outputs": [],
   "source": [
    "# 2. Selekcja cech dla modelu\n",
    "print(\"\\n--- Selekcja cech ---\")\n",
    "\n",
    "# Cechy numeryczne\n",
    "numeric_features = ['wiek', 'tętno', 'ciśnienie_skurczowe', 'ciśnienie_rozkurczowe',\n",
    "                   'temperatura', 'saturacja', 'płeć_encoded', \n",
    "                   'godzina', 'dzien_tygodnia', 'miesiac', 'czy_weekend']\n",
    "\n",
    "# Dodanie cech dummy\n",
    "dept_cols = [col for col in df_model.columns if col.startswith('oddział_')]\n",
    "template_cols = [col for col in df_model.columns if col.startswith('szablon_')]\n",
    "\n",
    "all_features = numeric_features + dept_cols + template_cols\n",
    "\n",
    "# Usunięcie NaN\n",
    "df_model_clean = df_model[all_features + ['kategoria_triażu']].dropna()\n",
    "\n",
    "print(f\"Liczba cech: {len(all_features)}\")\n",
    "print(f\"Liczba rekordów po usunięciu NaN: {len(df_model_clean)}\")"
   ]
  },
  {
   "cell_type": "code",
   "execution_count": null,
   "metadata": {},
   "outputs": [],
   "source": [
    "# 3. Normalizacja cech numerycznych\n",
    "from sklearn.preprocessing import StandardScaler\n",
    "\n",
    "scaler = StandardScaler()\n",
    "df_model_clean[numeric_features] = scaler.fit_transform(df_model_clean[numeric_features])\n",
    "\n",
    "print(\"✓ Cechy numeryczne znormalizowane\")"
   ]
  },
  {
   "cell_type": "code",
   "execution_count": null,
   "metadata": {},
   "outputs": [],
   "source": [
    "# 4. Podział na X i y\n",
    "X = df_model_clean[all_features]\n",
    "y = df_model_clean['kategoria_triażu']\n",
    "\n",
    "print(f\"\\nKształt X: {X.shape}\")\n",
    "print(f\"Kształt y: {y.shape}\")"
   ]
  },
  {
   "cell_type": "code",
   "execution_count": null,
   "metadata": {},
   "outputs": [],
   "source": [
    "# 5. Podział na zbiory treningowy, walidacyjny i testowy\n",
    "from sklearn.model_selection import train_test_split\n",
    "\n",
    "# Podział: 70% trening, 15% walidacja, 15% test\n",
    "X_temp, X_test, y_temp, y_test = train_test_split(X, y, test_size=0.15, random_state=42, stratify=y)\n",
    "X_train, X_val, y_train, y_val = train_test_split(X_temp, y_temp, test_size=0.1765, random_state=42, stratify=y_temp)\n",
    "\n",
    "print(\"\\n--- Podział zbiorów ---\")\n",
    "print(f\"Zbiór treningowy: {X_train.shape[0]} próbek ({X_train.shape[0]/len(X)*100:.1f}%)\")\n",
    "print(f\"Zbiór walidacyjny: {X_val.shape[0]} próbek ({X_val.shape[0]/len(X)*100:.1f}%)\")\n",
    "print(f\"Zbiór testowy: {X_test.shape[0]} próbek ({X_test.shape[0]/len(X)*100:.1f}%)\")"
   ]
  },
  {
   "cell_type": "code",
   "execution_count": null,
   "metadata": {},
   "outputs": [],
   "source": [
    "# Sprawdzenie balansu klas\n",
    "print(\"\\n--- Rozkład klas w zbiorach ---\")\n",
    "print(\"\\nTreningowy:\")\n",
    "print(y_train.value_counts().sort_index())\n",
    "print(\"\\nWalidacyjny:\")\n",
    "print(y_val.value_counts().sort_index())\n",
    "print(\"\\nTestowy:\")\n",
    "print(y_test.value_counts().sort_index())"
   ]
  },
  {
   "cell_type": "markdown",
   "metadata": {},
   "source": [
    "## 12. Eksport przygotowanych danych"
   ]
  },
  {
   "cell_type": "code",
   "execution_count": null,
   "metadata": {},
   "outputs": [],
   "source": [
    "import os\n",
    "\n",
    "# Stworzenie folderu jeśli nie istnieje\n",
    "os.makedirs('../data/processed/', exist_ok=True)\n",
    "\n",
    "# Eksport do plików\n",
    "df_model_clean.to_csv('../data/processed/prepared_data.csv', index=False)\n",
    "X_train.to_csv('../data/processed/X_train.csv', index=False)\n",
    "X_val.to_csv('../data/processed/X_val.csv', index=False)\n",
    "X_test.to_csv('../data/processed/X_test.csv', index=False)\n",
    "y_train.to_csv('../data/processed/y_train.csv', index=False)\n",
    "y_val.to_csv('../data/processed/y_val.csv', index=False)\n",
    "y_test.to_csv('../data/processed/y_test.csv', index=False)\n",
    "\n",
    "print(\"=\"*70)\n",
    "print(\"EKSPORT DANYCH\")\n",
    "print(\"=\"*70)\n",
    "print(\"\\n✓ Dane zapisane w folderze 'data/processed/':\")\n",
    "print(\"  - prepared_data.csv\")\n",
    "print(\"  - X_train.csv, X_val.csv, X_test.csv\")\n",
    "print(\"  - y_train.csv, y_val.csv, y_test.csv\")"
   ]
  },
  {
   "cell_type": "markdown",
   "metadata": {},
   "source": [
    "## Podsumowanie analizy"
   ]
  },
  {
   "cell_type": "code",
   "execution_count": null,
   "metadata": {},
   "outputs": [],
   "source": [
    "print(\"\\n\" + \"=\"*70)\n",
    "print(\"PODSUMOWANIE ANALIZY\")\n",
    "print(\"=\"*70)\n",
    "\n",
    "print(\"\"\"\n",
    "✅ WYKONANE KROKI:\n",
    "\n",
    "1. ✓ Wczytanie i inspekcja danych\n",
    "2. ✓ Analiza brakujących wartości\n",
    "3. ✓ Inżynieria cech czasowych\n",
    "4. ✓ Analiza rozkładów zmiennych kategorycznych\n",
    "5. ✓ Analiza rozkładów zmiennych numerycznych\n",
    "6. ✓ Analiza wzorców czasowych (sezonowość)\n",
    "7. ✓ Analiza korelacji między zmiennymi\n",
    "8. ✓ Analiza według kategorii triaży\n",
    "9. ✓ Analiza oddziałów\n",
    "10. ✓ Kodowanie zmiennych kategorycznych\n",
    "11. ✓ Normalizacja cech\n",
    "12. ✓ Podział na zbiory treningowy/walidacyjny/testowy\n",
    "13. ✓ Eksport przygotowanych danych\n",
    "\n",
    "📊 KLUCZOWE OBSERWACJE:\n",
    "- Dane zawierają realistyczne wzorce sezonowości\n",
    "- Wyraźne różnice w parametrach życiowych według kategorii triaży\n",
    "- Zbalansowany rozkład kategorii triaży i oddziałów\n",
    "- Dane gotowe do trenowania modeli ML\n",
    "\n",
    "🎯 NASTĘPNY KROK:\n",
    "ETAP 2 - Budowa modeli uczenia maszynowego\n",
    "\"\"\")\n",
    "\n",
    "print(\"\\n\" + \"=\"*70)\n",
    "print(\"ANALIZA ZAKOŃCZONA POMYŚLNIE!\")\n",
    "print(\"=\"*70)"
   ]
  }
 ],
 "metadata": {
  "kernelspec": {
   "display_name": "Python 3",
   "language": "python",
   "name": "python3"
  },
  "language_info": {
   "codemirror_mode": {
    "name": "ipython",
    "version": 3
   },
   "file_extension": ".py",
   "mimetype": "text/x-python",
   "name": "python",
   "nbconvert_exporter": "python",
   "pygments_lexer": "ipython3",
   "version": "3.9.0"
  }
 },
 "nbformat": 4,
 "nbformat_minor": 4
}
